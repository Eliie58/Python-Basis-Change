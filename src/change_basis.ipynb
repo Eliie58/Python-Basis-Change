{
 "cells": [
  {
   "cell_type": "code",
   "execution_count": 9,
   "id": "6ae19ca7-b5c7-4bdc-b5fe-6a5a4db88d43",
   "metadata": {},
   "outputs": [],
   "source": [
    "import numpy as np\n",
    "import plot_3d\n",
    "import plot_2d"
   ]
  },
  {
   "cell_type": "code",
   "execution_count": 10,
   "id": "c5e6b83c-c3cd-438b-984c-697a444e6770",
   "metadata": {},
   "outputs": [],
   "source": [
    "class Constant:\n",
    "    DATA_TYPE_INT = \"int\"\n",
    "    DATA_TYPE_FLOAT = \"float\"\n",
    "    DATA_TYPE_STRICTLY_POSITIVE_INT = \"int>=0\""
   ]
  },
  {
   "cell_type": "code",
   "execution_count": 11,
   "id": "56c44f5f-b6ef-47e4-bd5b-ad233d78b44d",
   "metadata": {},
   "outputs": [],
   "source": [
    "def get_number(description, data_type):\n",
    "    while True:\n",
    "        try:\n",
    "            if data_type == Constant.DATA_TYPE_INT:\n",
    "                return int(input(description + \" : \"))\n",
    "            elif data_type == Constant.DATA_TYPE_STRICTLY_POSITIVE_INT:\n",
    "                value = int(input(description + \" : \"))\n",
    "                if value <= 0:\n",
    "                    raise ValueError\n",
    "                return value\n",
    "            elif data_type == Constant.DATA_TYPE_FLOAT:\n",
    "                return float(input(description + \" : \"))\n",
    "        except ValueError:\n",
    "            print(\"Not a valid Number\")"
   ]
  },
  {
   "cell_type": "code",
   "execution_count": 12,
   "id": "410ea0ad-3200-4716-850d-c380a12f837f",
   "metadata": {},
   "outputs": [],
   "source": [
    "def capture_valid_matrix(dimension):\n",
    "    matrix = np.zeros((dimension, dimension))\n",
    "    for i in range(dimension):\n",
    "        for j in range(dimension):\n",
    "            matrix[i, j] = get_number(\"Enter the value in i={} and j={}\".format(i, j), Constant.DATA_TYPE_FLOAT)\n",
    "    print(\"Captured Matrix is : \\n{}\".format(matrix))\n",
    "    if is_valid_matrix(matrix):\n",
    "        return matrix\n",
    "    return capture_valid_matrix(dimension)"
   ]
  },
  {
   "cell_type": "code",
   "execution_count": 13,
   "id": "0259955a-aa4b-401a-927a-3df6a8814c79",
   "metadata": {},
   "outputs": [],
   "source": [
    "def is_valid_matrix(matrix):\n",
    "    if np.linalg.det(matrix) == 0:\n",
    "        print(\"Determinant of the matrix is 0, this is not a valid base matrix\")\n",
    "        return False\n",
    "    return True"
   ]
  },
  {
   "cell_type": "code",
   "execution_count": 14,
   "id": "e1dcb81d-2ebd-4a63-8e3e-55272a4a7a18",
   "metadata": {},
   "outputs": [],
   "source": [
    "def capture_vector(dimension):\n",
    "    vector = np.zeros(dimension)\n",
    "    for i in range(dimension):\n",
    "        vector[i] = get_number(\"Enter the value in i={}\".format(i), Constant.DATA_TYPE_FLOAT)\n",
    "    print(\"Captured Vector is : \\n{}\".format(vector))\n",
    "    return vector"
   ]
  },
  {
   "cell_type": "code",
   "execution_count": 15,
   "id": "3295e193-dbc2-49eb-bed8-4eeff55171de",
   "metadata": {},
   "outputs": [],
   "source": [
    "def change_basis(new_matrix, vector_canonical):\n",
    "    matrix_inv = np.linalg.inv(new_matrix)\n",
    "    return matrix_inv.dot(vector_canonical)"
   ]
  },
  {
   "cell_type": "code",
   "execution_count": null,
   "id": "a85060f1-95a9-4388-ba63-2d16ffdc132b",
   "metadata": {},
   "outputs": [],
   "source": [
    "dimension = get_number(\"Please enter the dimension of the space\", Constant.DATA_TYPE_STRICTLY_POSITIVE_INT)\n",
    "print(\"Please input the values of the Origin Base Matrix\")\n",
    "old_base = capture_valid_matrix(dimension)\n",
    "print(\"Please input the values of the Target Base Matrix\")\n",
    "new_matrix = capture_valid_matrix(dimension)\n",
    "print(\"Please input the Vector coordinates in the Origin Base Matrix\")\n",
    "old_vector = capture_vector(dimension)\n",
    "# First step, take the vector to its coordinates in Canonical Base\n",
    "vector_canonical = old_base.dot(old_vector)\n",
    "# Second step, change the coordinates to the target system\n",
    "new_vector = change_basis(new_matrix, vector_canonical)\n",
    "print(f'Original Vector is : \\n{old_vector}')\n",
    "print(f'Vector in Canonical Base : \\n{vector_canonical}')\n",
    "print(f'Vector in Target Base : \\n{new_vector}')\n",
    "\n",
    "if dimension == 3:\n",
    "    plot_3d.plot(old_base, new_matrix, old_vector, vector_canonical, new_vector)\n",
    "elif dimension == 2:\n",
    "    plot_2d.plot(old_base, new_matrix, old_vector, vector_canonical, new_vector)"
   ]
  }
 ],
 "metadata": {
  "kernelspec": {
   "display_name": "Python 3 (ipykernel)",
   "language": "python",
   "name": "python3"
  },
  "language_info": {
   "codemirror_mode": {
    "name": "ipython",
    "version": 3
   },
   "file_extension": ".py",
   "mimetype": "text/x-python",
   "name": "python",
   "nbconvert_exporter": "python",
   "pygments_lexer": "ipython3",
   "version": "3.9.7"
  }
 },
 "nbformat": 4,
 "nbformat_minor": 5
}
